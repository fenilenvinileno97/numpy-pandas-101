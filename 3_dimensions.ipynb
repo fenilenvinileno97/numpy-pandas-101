{
 "cells": [
  {
   "cell_type": "code",
   "execution_count": 24,
   "metadata": {},
   "outputs": [],
   "source": [
    "import numpy as np"
   ]
  },
  {
   "attachments": {},
   "cell_type": "markdown",
   "metadata": {},
   "source": [
    "Scalars are arrays with just one single value, which dimensionality is equal to zero."
   ]
  },
  {
   "cell_type": "code",
   "execution_count": 25,
   "metadata": {},
   "outputs": [
    {
     "name": "stdout",
     "output_type": "stream",
     "text": [
      "42\n",
      "Dimension of scalar is 0\n"
     ]
    }
   ],
   "source": [
    "scalar = np.array(42)\n",
    "print(scalar)\n",
    "print(f'Dimension of scalar is {scalar.ndim}')"
   ]
  },
  {
   "attachments": {},
   "cell_type": "markdown",
   "metadata": {},
   "source": [
    "Vectors are 1xn matrices, consisted of a single row with n elements as a Python list."
   ]
  },
  {
   "cell_type": "code",
   "execution_count": 26,
   "metadata": {},
   "outputs": [
    {
     "name": "stdout",
     "output_type": "stream",
     "text": [
      "[1 2 3]\n",
      "Dimension of vector is 1\n"
     ]
    }
   ],
   "source": [
    "vector = np.array([1,2,3])\n",
    "print(vector)\n",
    "print(f'Dimension of vector is {vector.ndim}')"
   ]
  },
  {
   "attachments": {},
   "cell_type": "markdown",
   "metadata": {},
   "source": [
    "Matrices are mxn arrays of elements, consisted of m rows and n columns. Those datasets are quite common in data analysis, we can find them in Excel spreadsheets."
   ]
  },
  {
   "cell_type": "code",
   "execution_count": 27,
   "metadata": {},
   "outputs": [
    {
     "name": "stdout",
     "output_type": "stream",
     "text": [
      "[[1 0 0]\n",
      " [0 1 0]\n",
      " [0 0 1]]\n",
      "Dimension of matrix is 2\n"
     ]
    }
   ],
   "source": [
    "matrix = np.array([[1,0,0],[0,1,0],[0,0,1]])\n",
    "print(matrix)\n",
    "print(f'Dimension of matrix is {matrix.ndim}')"
   ]
  },
  {
   "attachments": {},
   "cell_type": "markdown",
   "metadata": {},
   "source": [
    "Tensors can be defined as a multidimensional array or data structure. Extends the concept of matrices to more than two dimensions, a generalization of matrices to an arbitrary number of dimensions (arrays with n dimensions). In the image, we can illustrate events in a timeline using 3D tensors, where (x = events, y = features, z = time)"
   ]
  },
  {
   "attachments": {},
   "cell_type": "markdown",
   "metadata": {},
   "source": [
    "<div style=\"text-align: center;\">\n",
    "    <img src=\"./imgs/tensor_example.png\" alt=\"Alt Text\" width=\"400\" height=\"200\">\n",
    "</div>"
   ]
  },
  {
   "cell_type": "code",
   "execution_count": 28,
   "metadata": {},
   "outputs": [
    {
     "name": "stdout",
     "output_type": "stream",
     "text": [
      "[[[ 1  2  3]\n",
      "  [ 4  5  6]\n",
      "  [ 7  8  9]\n",
      "  [10 11 12]]\n",
      "\n",
      " [[13 13 15]\n",
      "  [16 17 18]\n",
      "  [19 20 21]\n",
      "  [22 23 24]]]\n",
      "Dimension of tensor is 3\n"
     ]
    }
   ],
   "source": [
    "tensor = np.array([[[1, 2, 3], [4, 5, 6], [7, 8, 9], [10, 11, 12]],[[13, 13, 15], [16, 17, 18], [19, 20, 21], [22, 23, 24]]])\n",
    "print(tensor)\n",
    "print(f'Dimension of tensor is {tensor.ndim}')"
   ]
  },
  {
   "attachments": {},
   "cell_type": "markdown",
   "metadata": {},
   "source": [
    "#### `Adding or removing dimensions`\n",
    "\n",
    "We can define dimensionality n from array defining as we can observe below"
   ]
  },
  {
   "cell_type": "code",
   "execution_count": 29,
   "metadata": {},
   "outputs": [
    {
     "name": "stdout",
     "output_type": "stream",
     "text": [
      "[[[[[[[[[[1 2 3]]]]]]]]]]\n",
      "Dimension of the vector is 10\n"
     ]
    }
   ],
   "source": [
    "vector = np.array([1,2,3], ndmin = 10)\n",
    "print(vector)\n",
    "print(f'Dimension of the vector is {vector.ndim}')"
   ]
  },
  {
   "attachments": {},
   "cell_type": "markdown",
   "metadata": {},
   "source": [
    "Dimensions can be expanded in existing arrays using ``expand_dims()``. \n",
    "Axis = 0 refers to rows, while axis = 1 refers to columns."
   ]
  },
  {
   "cell_type": "code",
   "execution_count": 30,
   "metadata": {},
   "outputs": [
    {
     "name": "stdout",
     "output_type": "stream",
     "text": [
      "[[1 2 3 4]]\n"
     ]
    },
    {
     "data": {
      "text/plain": [
       "2"
      ]
     },
     "execution_count": 30,
     "metadata": {},
     "output_type": "execute_result"
    }
   ],
   "source": [
    "expand = np.expand_dims(np.array([1,2,3,4]), axis = 0)\n",
    "print(expand)\n",
    "expand.ndim"
   ]
  },
  {
   "attachments": {},
   "cell_type": "markdown",
   "metadata": {},
   "source": [
    "Also, we can remove or zip unused dimensions in the array."
   ]
  },
  {
   "cell_type": "code",
   "execution_count": 31,
   "metadata": {},
   "outputs": [
    {
     "name": "stdout",
     "output_type": "stream",
     "text": [
      "[[[[[[[[[[1 2 3]]]]]]]]]] , our current dimension is 10\n",
      "[1 2 3] , our current dimension is 1\n"
     ]
    }
   ],
   "source": [
    "print(vector, f', our current dimension is {vector.ndim}')\n",
    "vector_redim = np.squeeze(vector)\n",
    "print(vector_redim, f', our current dimension is {vector_redim.ndim}')"
   ]
  },
  {
   "attachments": {},
   "cell_type": "markdown",
   "metadata": {},
   "source": [
    "#### `Challenge No. 2`\n",
    "\n",
    "1. Define a 5D tensor\n",
    "2. Add a new dimension in any axis\n",
    "3. Delete all unused dimensions"
   ]
  },
  {
   "cell_type": "code",
   "execution_count": 40,
   "metadata": {},
   "outputs": [
    {
     "name": "stdout",
     "output_type": "stream",
     "text": [
      "[[[[[1 0 0 0 0]\n",
      "    [0 1 0 0 0]\n",
      "    [0 0 1 0 0]\n",
      "    [0 0 0 1 0]\n",
      "    [0 0 0 0 1]]]]]\n",
      "Dimensionality of tensor_5d is 5\n"
     ]
    }
   ],
   "source": [
    "#define a 5D tensor\n",
    "\n",
    "tensor_5d = np.array([[1,0,0,0,0],[0,1,0,0,0],[0,0,1,0,0],[0,0,0,1,0],[0,0,0,0,1]], ndmin=5)\n",
    "print(tensor_5d)\n",
    "print(f'Dimensionality of tensor_5d is {tensor_5d.ndim}')\n",
    "\n"
   ]
  },
  {
   "cell_type": "code",
   "execution_count": 42,
   "metadata": {},
   "outputs": [
    {
     "name": "stdout",
     "output_type": "stream",
     "text": [
      "[[[[[[1 0 0 0 0]\n",
      "     [0 1 0 0 0]\n",
      "     [0 0 1 0 0]\n",
      "     [0 0 0 1 0]\n",
      "     [0 0 0 0 1]]]]]]\n",
      "Dimensionality of tensor_5d_redim is 6\n"
     ]
    }
   ],
   "source": [
    "#add a new column\n",
    "tensor_5d_redim = np.expand_dims(tensor_5d, axis=1)\n",
    "print(tensor_5d_redim)\n",
    "print(f'Dimensionality of tensor_5d_redim is {tensor_5d_redim.ndim}')"
   ]
  },
  {
   "cell_type": "code",
   "execution_count": 43,
   "metadata": {},
   "outputs": [
    {
     "name": "stdout",
     "output_type": "stream",
     "text": [
      "[[[[[[1 0 0 0 0]\n",
      "     [0 1 0 0 0]\n",
      "     [0 0 1 0 0]\n",
      "     [0 0 0 1 0]\n",
      "     [0 0 0 0 1]]]]]] , our current dimension is 6\n",
      "[[1 0 0 0 0]\n",
      " [0 1 0 0 0]\n",
      " [0 0 1 0 0]\n",
      " [0 0 0 1 0]\n",
      " [0 0 0 0 1]] , our current dimension is 2\n"
     ]
    }
   ],
   "source": [
    "#remove unused dimensions\n",
    "\n",
    "print(tensor_5d_redim, f', our current dimension is {tensor_5d_redim.ndim}')\n",
    "tensor_sq = np.squeeze(tensor_5d_redim)\n",
    "print(tensor_sq, f', our current dimension is {tensor_sq.ndim}')"
   ]
  }
 ],
 "metadata": {
  "kernelspec": {
   "display_name": "env",
   "language": "python",
   "name": "python3"
  },
  "language_info": {
   "codemirror_mode": {
    "name": "ipython",
    "version": 3
   },
   "file_extension": ".py",
   "mimetype": "text/x-python",
   "name": "python",
   "nbconvert_exporter": "python",
   "pygments_lexer": "ipython3",
   "version": "3.10.6"
  },
  "orig_nbformat": 4
 },
 "nbformat": 4,
 "nbformat_minor": 2
}
