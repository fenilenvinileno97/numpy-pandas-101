{
 "cells": [
  {
   "cell_type": "code",
   "execution_count": 104,
   "metadata": {},
   "outputs": [],
   "source": [
    "import pandas as pd\n",
    "import numpy as np"
   ]
  },
  {
   "attachments": {},
   "cell_type": "markdown",
   "metadata": {},
   "source": [
    "In this project, we will analyze the CO2 emissions per area in the world, and evolution through years using pandas. No plot will be made yet."
   ]
  },
  {
   "cell_type": "code",
   "execution_count": 105,
   "metadata": {},
   "outputs": [],
   "source": [
    "#dataset filepaths\n",
    "co2_dataset = '../../Datasets/CO2_emission_by_countries.csv'"
   ]
  },
  {
   "attachments": {},
   "cell_type": "markdown",
   "metadata": {},
   "source": [
    "Reading dataset using encoding `windows-1252`"
   ]
  },
  {
   "cell_type": "code",
   "execution_count": 106,
   "metadata": {},
   "outputs": [
    {
     "data": {
      "text/html": [
       "<div>\n",
       "<style scoped>\n",
       "    .dataframe tbody tr th:only-of-type {\n",
       "        vertical-align: middle;\n",
       "    }\n",
       "\n",
       "    .dataframe tbody tr th {\n",
       "        vertical-align: top;\n",
       "    }\n",
       "\n",
       "    .dataframe thead th {\n",
       "        text-align: right;\n",
       "    }\n",
       "</style>\n",
       "<table border=\"1\" class=\"dataframe\">\n",
       "  <thead>\n",
       "    <tr style=\"text-align: right;\">\n",
       "      <th></th>\n",
       "      <th>Country</th>\n",
       "      <th>Code</th>\n",
       "      <th>Calling Code</th>\n",
       "      <th>Year</th>\n",
       "      <th>CO2 emission (Tons)</th>\n",
       "      <th>Population(2022)</th>\n",
       "      <th>Area</th>\n",
       "      <th>% of World</th>\n",
       "      <th>Density(km2)</th>\n",
       "    </tr>\n",
       "  </thead>\n",
       "  <tbody>\n",
       "    <tr>\n",
       "      <th>0</th>\n",
       "      <td>Afghanistan</td>\n",
       "      <td>AF</td>\n",
       "      <td>93</td>\n",
       "      <td>1750</td>\n",
       "      <td>0.0</td>\n",
       "      <td>41128771.0</td>\n",
       "      <td>652230.0</td>\n",
       "      <td>0.40%</td>\n",
       "      <td>63/km²</td>\n",
       "    </tr>\n",
       "    <tr>\n",
       "      <th>1</th>\n",
       "      <td>Afghanistan</td>\n",
       "      <td>AF</td>\n",
       "      <td>93</td>\n",
       "      <td>1751</td>\n",
       "      <td>0.0</td>\n",
       "      <td>41128771.0</td>\n",
       "      <td>652230.0</td>\n",
       "      <td>0.40%</td>\n",
       "      <td>63/km²</td>\n",
       "    </tr>\n",
       "    <tr>\n",
       "      <th>2</th>\n",
       "      <td>Afghanistan</td>\n",
       "      <td>AF</td>\n",
       "      <td>93</td>\n",
       "      <td>1752</td>\n",
       "      <td>0.0</td>\n",
       "      <td>41128771.0</td>\n",
       "      <td>652230.0</td>\n",
       "      <td>0.40%</td>\n",
       "      <td>63/km²</td>\n",
       "    </tr>\n",
       "    <tr>\n",
       "      <th>3</th>\n",
       "      <td>Afghanistan</td>\n",
       "      <td>AF</td>\n",
       "      <td>93</td>\n",
       "      <td>1753</td>\n",
       "      <td>0.0</td>\n",
       "      <td>41128771.0</td>\n",
       "      <td>652230.0</td>\n",
       "      <td>0.40%</td>\n",
       "      <td>63/km²</td>\n",
       "    </tr>\n",
       "    <tr>\n",
       "      <th>4</th>\n",
       "      <td>Afghanistan</td>\n",
       "      <td>AF</td>\n",
       "      <td>93</td>\n",
       "      <td>1754</td>\n",
       "      <td>0.0</td>\n",
       "      <td>41128771.0</td>\n",
       "      <td>652230.0</td>\n",
       "      <td>0.40%</td>\n",
       "      <td>63/km²</td>\n",
       "    </tr>\n",
       "  </tbody>\n",
       "</table>\n",
       "</div>"
      ],
      "text/plain": [
       "       Country Code Calling Code  Year  CO2 emission (Tons)  Population(2022)  \\\n",
       "0  Afghanistan   AF           93  1750                  0.0        41128771.0   \n",
       "1  Afghanistan   AF           93  1751                  0.0        41128771.0   \n",
       "2  Afghanistan   AF           93  1752                  0.0        41128771.0   \n",
       "3  Afghanistan   AF           93  1753                  0.0        41128771.0   \n",
       "4  Afghanistan   AF           93  1754                  0.0        41128771.0   \n",
       "\n",
       "       Area % of World Density(km2)  \n",
       "0  652230.0      0.40%       63/km²  \n",
       "1  652230.0      0.40%       63/km²  \n",
       "2  652230.0      0.40%       63/km²  \n",
       "3  652230.0      0.40%       63/km²  \n",
       "4  652230.0      0.40%       63/km²  "
      ]
     },
     "execution_count": 106,
     "metadata": {},
     "output_type": "execute_result"
    }
   ],
   "source": [
    "co2_df = pd.read_csv(co2_dataset, sep=',', header=0, encoding='windows-1252')\n",
    "co2_df.head()"
   ]
  },
  {
   "cell_type": "code",
   "execution_count": 107,
   "metadata": {},
   "outputs": [],
   "source": [
    "countries = co2_df['Country'].drop_duplicates()\n",
    "countries = countries.values.tolist()"
   ]
  },
  {
   "attachments": {},
   "cell_type": "markdown",
   "metadata": {},
   "source": [
    "Let's include a new column which matches countries with regions, but first of all, we gotta make sure that each geographic region matches with countries in dataset, it could happen that some geopolitical interpretations could be wrong among countries lists and countries in df."
   ]
  },
  {
   "cell_type": "code",
   "execution_count": 108,
   "metadata": {},
   "outputs": [],
   "source": [
    "south_america_countries = ['Colombia', 'Venezuela', 'Suriname', 'French Guiana', 'Guyana', 'Ecuador', 'Peru', 'Bolivia', 'Chile', 'Paraguay', 'Brazil', 'Uruguay', 'Argentina']\n",
    "asia_countries = [\n",
    "    'Afghanistan', 'Armenia', 'Azerbaijan', 'Bahrain', 'Bangladesh', 'Bhutan', 'Brunei', 'Cambodia',\n",
    "    'China', 'Cyprus', 'Georgia', 'India', 'Indonesia', 'Iran', 'Iraq', 'Israel', 'Japan', 'Jordan',\n",
    "    'Kazakhstan', 'Kuwait', 'Kyrgyzstan', 'Laos', 'Lebanon', 'Malaysia', 'Maldives', 'Mongolia', 'Myanmar',\n",
    "    'Nepal', 'North Korea', 'Oman', 'Pakistan', 'Palestine', 'Philippines', 'Qatar', 'Russia', 'Saudi Arabia',\n",
    "    'Singapore', 'South Korea', 'Sri Lanka', 'Syria', 'Taiwan', 'Tajikistan', 'Thailand', 'Timor',\n",
    "    'Turkey', 'Turkmenistan', 'United Arab Emirates', 'Uzbekistan', 'Vietnam', 'Yemen', 'Macao', 'Christmas Island', 'Hong Kong'\n",
    "]\n",
    "europe_countries = [\n",
    "    'Albania', 'Andorra', 'Austria', 'Belarus', 'Belgium', 'Bosnia and Herzegovina', 'Bulgaria', 'Croatia',\n",
    "    'Cyprus', 'Czechia', 'Denmark', 'Estonia', 'Finland', 'France', 'Germany', 'Greece', 'Hungary',\n",
    "    'Iceland', 'Ireland', 'Italy', 'Kosovo', 'Latvia', 'Liechtenstein', 'Lithuania', 'Luxembourg', 'Malta',\n",
    "    'Moldova', 'Montenegro', 'Netherlands', 'North Macedonia', 'Norway', 'Poland', 'Portugal',\n",
    "    'Romania', 'Russia', 'Serbia', 'Slovakia', 'Slovenia', 'Spain', 'Sweden', 'Switzerland',\n",
    "    'Ukraine', 'United Kingdom', 'Faeroe Islands', 'Greenland', 'Sint Maarten (Dutch part)', 'Martinique', 'Bermuda', 'Aruba'\n",
    "]\n",
    "africa_countries = [\n",
    "    'Algeria', 'Angola', 'Benin', 'Botswana', 'Burkina Faso', 'Burundi', 'Cape Verde', 'Cameroon',\n",
    "    'Central African Republic', 'Chad', 'Comoros', 'Democratic Republic of Congo', 'Congo',\n",
    "    'Djibouti', 'Egypt', 'Equatorial Guinea', 'Eritrea', 'Eswatini', 'Ethiopia', 'Gabon', 'Gambia', 'Ghana',\n",
    "    'Guinea', 'Guinea-Bissau', \"Cote d'Ivoire\", 'Kenya', 'Lesotho', 'Liberia', 'Libya', 'Madagascar', 'Malawi',\n",
    "    'Mali', 'Mauritania', 'Mauritius', 'Morocco', 'Mozambique', 'Namibia', 'Niger', 'Nigeria', 'Rwanda',\n",
    "    'Sao Tome and Principe', 'Senegal', 'Seychelles', 'Sierra Leone', 'Somalia', 'South Africa', 'South Sudan',\n",
    "    'Sudan', 'Tanzania', 'Togo', 'Tunisia', 'Uganda', 'Zambia', 'Zimbabwe', 'Mayotte', 'Saint Helena', 'Reunion'\n",
    "]\n",
    "north_america_countries = [\n",
    "    'Antigua and Barbuda', 'Bahamas', 'Barbados', 'Belize', 'Canada', 'Costa Rica', 'Cuba', 'Dominica',\n",
    "    'Dominican Republic', 'El Salvador', 'Grenada', 'Guatemala', 'Haiti', 'Honduras', 'Jamaica', 'Mexico',\n",
    "    'Nicaragua', 'Panama', 'Saint Kitts and Nevis', 'Saint Lucia', 'Saint Vincent and the Grenadines',\n",
    "    'Trinidad and Tobago', 'United States', 'Montserrat', 'Anguilla', 'Bermuda', 'Aruba', 'Turks and Caicos Islands', 'Guadeloupe', 'Saint Pierre and Miquelon', 'Puerto Rico', 'Curacao'\n",
    "]\n",
    "oceania_countries = [\n",
    "    'Australia', 'Fiji', 'Kiribati', 'Marshall Islands', 'Micronesia', 'Nauru', 'New Zealand', 'Palau', 'Papua New Guinea',\n",
    "    'Samoa', 'Solomon Islands', 'Tonga', 'Tuvalu', 'Vanuatu', 'New Caledonia', 'Wallis and Futuna', 'French Polynesia', 'Niue', 'Cook Islands'\n",
    "]\n",
    "\n"
   ]
  },
  {
   "cell_type": "code",
   "execution_count": 109,
   "metadata": {},
   "outputs": [
    {
     "name": "stdout",
     "output_type": "stream",
     "text": [
      "[]\n"
     ]
    }
   ],
   "source": [
    "matches = [x for x in europe_countries if x not in countries]\n",
    "print(matches)"
   ]
  },
  {
   "cell_type": "code",
   "execution_count": 110,
   "metadata": {},
   "outputs": [
    {
     "name": "stdout",
     "output_type": "stream",
     "text": [
      "[]\n"
     ]
    }
   ],
   "source": [
    "matches = [x for x in asia_countries if x not in countries]\n",
    "print(matches)"
   ]
  },
  {
   "cell_type": "code",
   "execution_count": 111,
   "metadata": {},
   "outputs": [
    {
     "name": "stdout",
     "output_type": "stream",
     "text": [
      "[]\n"
     ]
    }
   ],
   "source": [
    "matches = [x for x in africa_countries if x not in countries]\n",
    "print(matches)"
   ]
  },
  {
   "cell_type": "code",
   "execution_count": 112,
   "metadata": {},
   "outputs": [
    {
     "data": {
      "text/html": [
       "<div>\n",
       "<style scoped>\n",
       "    .dataframe tbody tr th:only-of-type {\n",
       "        vertical-align: middle;\n",
       "    }\n",
       "\n",
       "    .dataframe tbody tr th {\n",
       "        vertical-align: top;\n",
       "    }\n",
       "\n",
       "    .dataframe thead th {\n",
       "        text-align: right;\n",
       "    }\n",
       "</style>\n",
       "<table border=\"1\" class=\"dataframe\">\n",
       "  <thead>\n",
       "    <tr style=\"text-align: right;\">\n",
       "      <th></th>\n",
       "      <th>Country</th>\n",
       "      <th>Code</th>\n",
       "      <th>Calling Code</th>\n",
       "      <th>Year</th>\n",
       "      <th>CO2 emission (Tons)</th>\n",
       "      <th>Population(2022)</th>\n",
       "      <th>Area</th>\n",
       "      <th>% of World</th>\n",
       "      <th>Density(km2)</th>\n",
       "    </tr>\n",
       "  </thead>\n",
       "  <tbody>\n",
       "    <tr>\n",
       "      <th>12466</th>\n",
       "      <td>Cote d'Ivoire</td>\n",
       "      <td>CI</td>\n",
       "      <td>NaN</td>\n",
       "      <td>1750</td>\n",
       "      <td>0.0</td>\n",
       "      <td>NaN</td>\n",
       "      <td>NaN</td>\n",
       "      <td>NaN</td>\n",
       "      <td>NaN</td>\n",
       "    </tr>\n",
       "    <tr>\n",
       "      <th>12467</th>\n",
       "      <td>Cote d'Ivoire</td>\n",
       "      <td>CI</td>\n",
       "      <td>NaN</td>\n",
       "      <td>1751</td>\n",
       "      <td>0.0</td>\n",
       "      <td>NaN</td>\n",
       "      <td>NaN</td>\n",
       "      <td>NaN</td>\n",
       "      <td>NaN</td>\n",
       "    </tr>\n",
       "  </tbody>\n",
       "</table>\n",
       "</div>"
      ],
      "text/plain": [
       "             Country Code Calling Code  Year  CO2 emission (Tons)  \\\n",
       "12466  Cote d'Ivoire   CI          NaN  1750                  0.0   \n",
       "12467  Cote d'Ivoire   CI          NaN  1751                  0.0   \n",
       "\n",
       "       Population(2022)  Area % of World Density(km2)  \n",
       "12466               NaN   NaN        NaN          NaN  \n",
       "12467               NaN   NaN        NaN          NaN  "
      ]
     },
     "execution_count": 112,
     "metadata": {},
     "output_type": "execute_result"
    }
   ],
   "source": [
    "text = \"D'\"\n",
    "matches = co2_df['Country'].str.contains(text, case=False)\n",
    "\n",
    "# Filter the DataFrame based on the matches\n",
    "matched_df = co2_df[matches]\n",
    "matched_df.head(2)"
   ]
  },
  {
   "cell_type": "code",
   "execution_count": 113,
   "metadata": {},
   "outputs": [],
   "source": [
    "def match_countries(world, africa=africa_countries, asia=asia_countries, north_america=north_america_countries, south_america=south_america_countries, oceania=oceania_countries, europe=europe_countries):\n",
    "    for i in world['Country']:\n",
    "        if i in africa:\n",
    "            world['Region'] == 'Africa'\n",
    "        elif i in asia:\n",
    "            world['Region'] == 'Asia'\n",
    "        elif i in north_america:\n",
    "            world['Region'] == 'North America'\n",
    "        elif i in south_america:\n",
    "            world['Region'] == 'South America'\n",
    "        elif i in oceania:\n",
    "            world['Region'] == 'Oceania'\n",
    "        elif i in europe:\n",
    "            world['Region'] == 'Europe'\n",
    "        else:\n",
    "            return np.nan"
   ]
  },
  {
   "cell_type": "code",
   "execution_count": 114,
   "metadata": {},
   "outputs": [],
   "source": [
    "df = co2_df.copy()"
   ]
  },
  {
   "cell_type": "code",
   "execution_count": 115,
   "metadata": {},
   "outputs": [],
   "source": [
    "def extract_country(dataframe, region):\n",
    "    empty_list = []\n",
    "    for i in dataframe['Country']:\n",
    "        empty_list.append(i)\n",
    "    return set(empty_list) & set(region)"
   ]
  },
  {
   "attachments": {},
   "cell_type": "markdown",
   "metadata": {},
   "source": [
    "##### Match African countries"
   ]
  },
  {
   "cell_type": "code",
   "execution_count": 116,
   "metadata": {},
   "outputs": [
    {
     "name": "stdout",
     "output_type": "stream",
     "text": [
      "{'Nigeria', 'Guinea', 'Reunion', 'Algeria', 'Ghana', 'Senegal', 'Mayotte', 'South Sudan', 'Burundi', 'Eswatini', 'Gabon', 'Lesotho', 'Comoros', 'Benin', 'Mauritius', 'Mali', 'Madagascar', 'Tunisia', 'Guinea-Bissau', 'Mauritania', 'Zambia', 'Namibia', 'Rwanda', 'Kenya', 'Morocco', 'Angola', 'Niger', 'Zimbabwe', 'Togo', 'Cape Verde', 'Equatorial Guinea', 'Democratic Republic of Congo', 'Djibouti', 'Libya', 'Sao Tome and Principe', 'Chad', 'Ethiopia', 'Malawi', 'Botswana', 'Seychelles', 'Central African Republic', 'Somalia', \"Cote d'Ivoire\", 'Sierra Leone', 'Saint Helena', 'Gambia', 'Sudan', 'South Africa', 'Liberia', 'Congo', 'Uganda', 'Cameroon', 'Egypt', 'Mozambique', 'Burkina Faso', 'Eritrea', 'Tanzania'}\n",
      "57 57\n"
     ]
    }
   ],
   "source": [
    "print(extract_country(df, africa_countries))\n",
    "print(len(extract_country(df, africa_countries)), len(africa_countries))"
   ]
  },
  {
   "attachments": {},
   "cell_type": "markdown",
   "metadata": {},
   "source": [
    "##### Match Asian countries"
   ]
  },
  {
   "cell_type": "code",
   "execution_count": 117,
   "metadata": {},
   "outputs": [
    {
     "name": "stdout",
     "output_type": "stream",
     "text": [
      "{'Jordan', 'Japan', 'Maldives', 'Kyrgyzstan', 'Bhutan', 'Georgia', 'Uzbekistan', 'Myanmar', 'Pakistan', 'India', 'Nepal', 'Turkey', 'North Korea', 'Palestine', 'Christmas Island', 'Saudi Arabia', 'Yemen', 'South Korea', 'Kuwait', 'Bangladesh', 'Vietnam', 'Iran', 'Philippines', 'Indonesia', 'Sri Lanka', 'Tajikistan', 'Malaysia', 'Bahrain', 'Armenia', 'Qatar', 'United Arab Emirates', 'Hong Kong', 'Afghanistan', 'Cambodia', 'Kazakhstan', 'Laos', 'Oman', 'Brunei', 'Russia', 'Turkmenistan', 'Cyprus', 'Singapore', 'Israel', 'Thailand', 'Timor', 'Iraq', 'Mongolia', 'Azerbaijan', 'China', 'Syria', 'Macao', 'Lebanon', 'Taiwan'}\n",
      "53 53\n"
     ]
    }
   ],
   "source": [
    "print(extract_country(df, asia_countries))\n",
    "print(len(extract_country(df, asia_countries)), len(asia_countries))"
   ]
  },
  {
   "attachments": {},
   "cell_type": "markdown",
   "metadata": {},
   "source": [
    "##### Match Europe countries"
   ]
  },
  {
   "cell_type": "code",
   "execution_count": 118,
   "metadata": {},
   "outputs": [
    {
     "name": "stdout",
     "output_type": "stream",
     "text": [
      "{'Denmark', 'Czechia', 'Italy', 'Sint Maarten (Dutch part)', 'Bulgaria', 'Malta', 'Netherlands', 'Lithuania', 'Hungary', 'Greenland', 'Bermuda', 'Austria', 'Bosnia and Herzegovina', 'Switzerland', 'Slovenia', 'Albania', 'Moldova', 'Iceland', 'Slovakia', 'Montenegro', 'Poland', 'Latvia', 'Belarus', 'Estonia', 'France', 'Andorra', 'Belgium', 'Portugal', 'Ireland', 'Luxembourg', 'Spain', 'Ukraine', 'North Macedonia', 'Norway', 'Greece', 'Kosovo', 'Russia', 'Serbia', 'Romania', 'Cyprus', 'Finland', 'Germany', 'Sweden', 'United Kingdom', 'Faeroe Islands', 'Martinique', 'Croatia', 'Liechtenstein', 'Aruba'}\n",
      "49 49\n"
     ]
    }
   ],
   "source": [
    "print(extract_country(df, europe_countries))\n",
    "print(len(extract_country(df, europe_countries)), len(europe_countries))"
   ]
  },
  {
   "attachments": {},
   "cell_type": "markdown",
   "metadata": {},
   "source": [
    "##### Match North American countries"
   ]
  },
  {
   "cell_type": "code",
   "execution_count": 119,
   "metadata": {},
   "outputs": [
    {
     "name": "stdout",
     "output_type": "stream",
     "text": [
      "{'Canada', 'Bahamas', 'El Salvador', 'Curacao', 'Bermuda', 'Saint Vincent and the Grenadines', 'United States', 'Saint Kitts and Nevis', 'Trinidad and Tobago', 'Grenada', 'Barbados', 'Anguilla', 'Costa Rica', 'Puerto Rico', 'Turks and Caicos Islands', 'Jamaica', 'Dominican Republic', 'Saint Pierre and Miquelon', 'Mexico', 'Cuba', 'Montserrat', 'Antigua and Barbuda', 'Nicaragua', 'Guadeloupe', 'Dominica', 'Saint Lucia', 'Haiti', 'Panama', 'Guatemala', 'Honduras', 'Belize', 'Aruba'}\n",
      "32 32\n"
     ]
    }
   ],
   "source": [
    "print(extract_country(df, north_america_countries))\n",
    "print(len(extract_country(df, north_america_countries)), len(north_america_countries))"
   ]
  },
  {
   "attachments": {},
   "cell_type": "markdown",
   "metadata": {},
   "source": [
    "##### Match South American countries"
   ]
  },
  {
   "cell_type": "code",
   "execution_count": 120,
   "metadata": {},
   "outputs": [
    {
     "name": "stdout",
     "output_type": "stream",
     "text": [
      "{'Suriname', 'Chile', 'French Guiana', 'Uruguay', 'Bolivia', 'Ecuador', 'Brazil', 'Peru', 'Paraguay', 'Argentina', 'Colombia', 'Guyana', 'Venezuela'}\n",
      "13 13\n"
     ]
    }
   ],
   "source": [
    "print(extract_country(df, south_america_countries))\n",
    "print(len(extract_country(df, south_america_countries)), len(south_america_countries))"
   ]
  },
  {
   "attachments": {},
   "cell_type": "markdown",
   "metadata": {},
   "source": [
    "##### Match Oceania countries"
   ]
  },
  {
   "cell_type": "code",
   "execution_count": 121,
   "metadata": {},
   "outputs": [
    {
     "name": "stdout",
     "output_type": "stream",
     "text": [
      "{'Wallis and Futuna', 'Fiji', 'Niue', 'Papua New Guinea', 'Tuvalu', 'Nauru', 'Vanuatu', 'Kiribati', 'New Zealand', 'Palau', 'New Caledonia', 'Samoa', 'Solomon Islands', 'Micronesia', 'Australia', 'Tonga', 'French Polynesia', 'Cook Islands', 'Marshall Islands'}\n",
      "19 19\n"
     ]
    }
   ],
   "source": [
    "print(extract_country(df, oceania_countries))\n",
    "print(len(extract_country(df, oceania_countries)), len(oceania_countries))"
   ]
  },
  {
   "attachments": {},
   "cell_type": "markdown",
   "metadata": {},
   "source": [
    "##### Unmatches between our world country list and ```df['Country']```"
   ]
  },
  {
   "cell_type": "code",
   "execution_count": 122,
   "metadata": {},
   "outputs": [
    {
     "name": "stdout",
     "output_type": "stream",
     "text": [
      "Antarctica\n"
     ]
    }
   ],
   "source": [
    "our_country_list = set(south_america_countries) | set(north_america_countries) | set(europe_countries) | set(oceania_countries) | set(africa_countries) | set(asia_countries)\n",
    "for country in set(df['Country']):\n",
    "    if country not in our_country_list:\n",
    "        print(country)"
   ]
  },
  {
   "attachments": {},
   "cell_type": "markdown",
   "metadata": {},
   "source": [
    "We have to create a new column in `df` which matches each country with its corresponding region."
   ]
  },
  {
   "cell_type": "code",
   "execution_count": 123,
   "metadata": {},
   "outputs": [
    {
     "data": {
      "text/plain": [
       "{'Antarctica': nan}"
      ]
     },
     "execution_count": 123,
     "metadata": {},
     "output_type": "execute_result"
    }
   ],
   "source": [
    "country_region = {'Antarctica': np.nan}\n",
    "country_region"
   ]
  },
  {
   "cell_type": "code",
   "execution_count": 124,
   "metadata": {},
   "outputs": [],
   "source": [
    "europe_tuple = tuple(zip(europe_countries, ['Europe']*len(europe_countries)))\n",
    "south_america_tuple = tuple(zip(south_america_countries, ['South America']*len(south_america_countries)))\n",
    "north_america_tuple = tuple(zip(north_america_countries, ['North America']*len(north_america_countries)))\n",
    "africa_tuple = tuple(zip(africa_countries, ['Africa']*len(africa_countries)))\n",
    "asia_tuple = tuple(zip(asia_countries, ['Asia']*len(asia_countries)))\n",
    "oceania_tuple = tuple(zip(oceania_countries, ['Oceania']*len(oceania_countries)))"
   ]
  },
  {
   "cell_type": "code",
   "execution_count": 125,
   "metadata": {},
   "outputs": [],
   "source": [
    "regions_to_append = [europe_tuple, south_america_tuple, north_america_tuple, africa_tuple, asia_tuple, oceania_tuple]\n",
    "for region in set(regions_to_append):\n",
    "    country_region.update(region)"
   ]
  },
  {
   "cell_type": "code",
   "execution_count": 126,
   "metadata": {},
   "outputs": [],
   "source": [
    "df['Region'] = df['Country'].map(country_region)"
   ]
  },
  {
   "cell_type": "code",
   "execution_count": 127,
   "metadata": {},
   "outputs": [
    {
     "data": {
      "text/html": [
       "<div>\n",
       "<style scoped>\n",
       "    .dataframe tbody tr th:only-of-type {\n",
       "        vertical-align: middle;\n",
       "    }\n",
       "\n",
       "    .dataframe tbody tr th {\n",
       "        vertical-align: top;\n",
       "    }\n",
       "\n",
       "    .dataframe thead th {\n",
       "        text-align: right;\n",
       "    }\n",
       "</style>\n",
       "<table border=\"1\" class=\"dataframe\">\n",
       "  <thead>\n",
       "    <tr style=\"text-align: right;\">\n",
       "      <th></th>\n",
       "      <th>Country</th>\n",
       "      <th>Code</th>\n",
       "      <th>Calling Code</th>\n",
       "      <th>Year</th>\n",
       "      <th>CO2 emission (Tons)</th>\n",
       "      <th>Population(2022)</th>\n",
       "      <th>Area</th>\n",
       "      <th>% of World</th>\n",
       "      <th>Density(km2)</th>\n",
       "      <th>Region</th>\n",
       "    </tr>\n",
       "  </thead>\n",
       "  <tbody>\n",
       "    <tr>\n",
       "      <th>2168</th>\n",
       "      <td>Argentina</td>\n",
       "      <td>AR</td>\n",
       "      <td>54</td>\n",
       "      <td>1750</td>\n",
       "      <td>0.0</td>\n",
       "      <td>45510318.0</td>\n",
       "      <td>2780400.0</td>\n",
       "      <td>1.80%</td>\n",
       "      <td>16/km²</td>\n",
       "      <td>South America</td>\n",
       "    </tr>\n",
       "    <tr>\n",
       "      <th>2169</th>\n",
       "      <td>Argentina</td>\n",
       "      <td>AR</td>\n",
       "      <td>54</td>\n",
       "      <td>1751</td>\n",
       "      <td>0.0</td>\n",
       "      <td>45510318.0</td>\n",
       "      <td>2780400.0</td>\n",
       "      <td>1.80%</td>\n",
       "      <td>16/km²</td>\n",
       "      <td>South America</td>\n",
       "    </tr>\n",
       "  </tbody>\n",
       "</table>\n",
       "</div>"
      ],
      "text/plain": [
       "        Country Code Calling Code  Year  CO2 emission (Tons)  \\\n",
       "2168  Argentina   AR           54  1750                  0.0   \n",
       "2169  Argentina   AR           54  1751                  0.0   \n",
       "\n",
       "      Population(2022)       Area % of World Density(km2)         Region  \n",
       "2168        45510318.0  2780400.0      1.80%       16/km²  South America  \n",
       "2169        45510318.0  2780400.0      1.80%       16/km²  South America  "
      ]
     },
     "execution_count": 127,
     "metadata": {},
     "output_type": "execute_result"
    }
   ],
   "source": [
    "df[df['Region'] == 'South America'].head(2)"
   ]
  },
  {
   "attachments": {},
   "cell_type": "markdown",
   "metadata": {},
   "source": [
    "Now, we have to filter by time scales. For instance, 2010s decade."
   ]
  },
  {
   "cell_type": "code",
   "execution_count": 128,
   "metadata": {},
   "outputs": [
    {
     "data": {
      "text/html": [
       "<div>\n",
       "<style scoped>\n",
       "    .dataframe tbody tr th:only-of-type {\n",
       "        vertical-align: middle;\n",
       "    }\n",
       "\n",
       "    .dataframe tbody tr th {\n",
       "        vertical-align: top;\n",
       "    }\n",
       "\n",
       "    .dataframe thead th {\n",
       "        text-align: right;\n",
       "    }\n",
       "</style>\n",
       "<table border=\"1\" class=\"dataframe\">\n",
       "  <thead>\n",
       "    <tr style=\"text-align: right;\">\n",
       "      <th></th>\n",
       "      <th>Country</th>\n",
       "      <th>Code</th>\n",
       "      <th>Calling Code</th>\n",
       "      <th>Year</th>\n",
       "      <th>CO2 emission (Tons)</th>\n",
       "      <th>Population(2022)</th>\n",
       "      <th>Area</th>\n",
       "      <th>% of World</th>\n",
       "      <th>Density(km2)</th>\n",
       "      <th>Region</th>\n",
       "    </tr>\n",
       "  </thead>\n",
       "  <tbody>\n",
       "    <tr>\n",
       "      <th>7587</th>\n",
       "      <td>Brazil</td>\n",
       "      <td>BR</td>\n",
       "      <td>55</td>\n",
       "      <td>2020</td>\n",
       "      <td>1.623851e+10</td>\n",
       "      <td>215313498.0</td>\n",
       "      <td>8515767.0</td>\n",
       "      <td>5.60%</td>\n",
       "      <td>25/km²</td>\n",
       "      <td>South America</td>\n",
       "    </tr>\n",
       "    <tr>\n",
       "      <th>2438</th>\n",
       "      <td>Argentina</td>\n",
       "      <td>AR</td>\n",
       "      <td>54</td>\n",
       "      <td>2020</td>\n",
       "      <td>8.431213e+09</td>\n",
       "      <td>45510318.0</td>\n",
       "      <td>2780400.0</td>\n",
       "      <td>1.80%</td>\n",
       "      <td>16/km²</td>\n",
       "      <td>South America</td>\n",
       "    </tr>\n",
       "    <tr>\n",
       "      <th>58264</th>\n",
       "      <td>Venezuela</td>\n",
       "      <td>VE</td>\n",
       "      <td>58</td>\n",
       "      <td>2020</td>\n",
       "      <td>7.854692e+09</td>\n",
       "      <td>28301696.0</td>\n",
       "      <td>916445.0</td>\n",
       "      <td>0.60%</td>\n",
       "      <td>31/km²</td>\n",
       "      <td>South America</td>\n",
       "    </tr>\n",
       "    <tr>\n",
       "      <th>11381</th>\n",
       "      <td>Colombia</td>\n",
       "      <td>CO</td>\n",
       "      <td>57</td>\n",
       "      <td>2020</td>\n",
       "      <td>3.399103e+09</td>\n",
       "      <td>51874024.0</td>\n",
       "      <td>1141748.0</td>\n",
       "      <td>0.70%</td>\n",
       "      <td>45/km²</td>\n",
       "      <td>South America</td>\n",
       "    </tr>\n",
       "    <tr>\n",
       "      <th>10568</th>\n",
       "      <td>Chile</td>\n",
       "      <td>CL</td>\n",
       "      <td>56</td>\n",
       "      <td>2020</td>\n",
       "      <td>2.903063e+09</td>\n",
       "      <td>19603733.0</td>\n",
       "      <td>756102.0</td>\n",
       "      <td>0.50%</td>\n",
       "      <td>26/km²</td>\n",
       "      <td>South America</td>\n",
       "    </tr>\n",
       "  </tbody>\n",
       "</table>\n",
       "</div>"
      ],
      "text/plain": [
       "         Country Code Calling Code  Year  CO2 emission (Tons)  \\\n",
       "7587      Brazil   BR           55  2020         1.623851e+10   \n",
       "2438   Argentina   AR           54  2020         8.431213e+09   \n",
       "58264  Venezuela   VE           58  2020         7.854692e+09   \n",
       "11381   Colombia   CO           57  2020         3.399103e+09   \n",
       "10568      Chile   CL           56  2020         2.903063e+09   \n",
       "\n",
       "       Population(2022)       Area % of World Density(km2)         Region  \n",
       "7587        215313498.0  8515767.0      5.60%       25/km²  South America  \n",
       "2438         45510318.0  2780400.0      1.80%       16/km²  South America  \n",
       "58264        28301696.0   916445.0      0.60%       31/km²  South America  \n",
       "11381        51874024.0  1141748.0      0.70%       45/km²  South America  \n",
       "10568        19603733.0   756102.0      0.50%       26/km²  South America  "
      ]
     },
     "execution_count": 128,
     "metadata": {},
     "output_type": "execute_result"
    }
   ],
   "source": [
    "emissions_sa_2020 = df[(df['Region'] == 'South America') & (df['Year'] == 2020)]\n",
    "emissions_sa_2020.sort_values('CO2 emission (Tons)', ascending=False).head()"
   ]
  },
  {
   "cell_type": "code",
   "execution_count": 129,
   "metadata": {},
   "outputs": [],
   "source": [
    "import matplotlib.pyplot as plt\n",
    "import seaborn as sns"
   ]
  },
  {
   "cell_type": "code",
   "execution_count": 130,
   "metadata": {},
   "outputs": [
    {
     "data": {
      "image/png": "[encoded data removed]",
      "text/plain": [
       "<Figure size 1000x500 with 1 Axes>"
      ]
     },
     "metadata": {},
     "output_type": "display_data"
    }
   ],
   "source": [
    "sns.catplot(data = emissions_sa_2020.sort_values('CO2 emission (Tons)', ascending=False).head(7), x = 'Country', y='CO2 emission (Tons)', kind='bar', height=5, aspect=2, palette='Paired', margin_titles=True)\n",
    "plt.tight_layout()\n",
    "plt.show()"
   ]
  },
  {
   "attachments": {},
   "cell_type": "markdown",
   "metadata": {},
   "source": [
    "Now, let's filter 2020 emissions worldwide by region. In this case, pie chart can be used for representing the contribution of each region to GHG production."
   ]
  },
  {
   "cell_type": "code",
   "execution_count": 178,
   "metadata": {},
   "outputs": [
    {
     "data": {
      "text/html": [
       "<div>\n",
       "<style scoped>\n",
       "    .dataframe tbody tr th:only-of-type {\n",
       "        vertical-align: middle;\n",
       "    }\n",
       "\n",
       "    .dataframe tbody tr th {\n",
       "        vertical-align: top;\n",
       "    }\n",
       "\n",
       "    .dataframe thead th {\n",
       "        text-align: right;\n",
       "    }\n",
       "</style>\n",
       "<table border=\"1\" class=\"dataframe\">\n",
       "  <thead>\n",
       "    <tr style=\"text-align: right;\">\n",
       "      <th></th>\n",
       "      <th>CO2 emission (Tons)</th>\n",
       "    </tr>\n",
       "    <tr>\n",
       "      <th>Region</th>\n",
       "      <th></th>\n",
       "    </tr>\n",
       "  </thead>\n",
       "  <tbody>\n",
       "    <tr>\n",
       "      <th>Africa</th>\n",
       "      <td>4.761074e+10</td>\n",
       "    </tr>\n",
       "    <tr>\n",
       "      <th>Asia</th>\n",
       "      <td>5.333521e+11</td>\n",
       "    </tr>\n",
       "    <tr>\n",
       "      <th>Europe</th>\n",
       "      <td>5.311058e+11</td>\n",
       "    </tr>\n",
       "    <tr>\n",
       "      <th>North America</th>\n",
       "      <td>4.777489e+11</td>\n",
       "    </tr>\n",
       "    <tr>\n",
       "      <th>Oceania</th>\n",
       "      <td>2.098130e+10</td>\n",
       "    </tr>\n",
       "    <tr>\n",
       "      <th>South America</th>\n",
       "      <td>4.328872e+10</td>\n",
       "    </tr>\n",
       "  </tbody>\n",
       "</table>\n",
       "</div>"
      ],
      "text/plain": [
       "               CO2 emission (Tons)\n",
       "Region                            \n",
       "Africa                4.761074e+10\n",
       "Asia                  5.333521e+11\n",
       "Europe                5.311058e+11\n",
       "North America         4.777489e+11\n",
       "Oceania               2.098130e+10\n",
       "South America         4.328872e+10"
      ]
     },
     "execution_count": 178,
     "metadata": {},
     "output_type": "execute_result"
    }
   ],
   "source": [
    "region_emissions_2020 = df[df['Year'] == 2020].loc[:,['Region', 'CO2 emission (Tons)']].groupby('Region').sum()\n",
    "region_emissions_2020"
   ]
  },
  {
   "cell_type": "code",
   "execution_count": 179,
   "metadata": {},
   "outputs": [
    {
     "data": {
      "text/plain": [
       "Index(['Africa', 'Asia', 'Europe', 'North America', 'Oceania',\n",
       "       'South America'],\n",
       "      dtype='object', name='Region')"
      ]
     },
     "execution_count": 179,
     "metadata": {},
     "output_type": "execute_result"
    }
   ],
   "source": [
    "region_emissions_2020.index"
   ]
  },
  {
   "cell_type": "code",
   "execution_count": 181,
   "metadata": {},
   "outputs": [
    {
     "data": {
      "image/png": "[encoded data removed]",
      "text/plain": [
       "<Figure size 640x480 with 1 Axes>"
      ]
     },
     "metadata": {},
     "output_type": "display_data"
    }
   ],
   "source": [
    "sizes = region_emissions_2020['CO2 emission (Tons)']\n",
    "labels = region_emissions_2020.index\n",
    "fig, ax = plt.subplots()\n",
    "ax.pie(sizes, labels=labels, autopct='%1.1f%%', colors = ['#66c2a5', '#fc8d62', '#8da0cb', '#e78ac3', '#a6d854', '#ffd92f']\n",
    ")\n",
    "plt.tight_layout()\n",
    "plt.show()"
   ]
  }
 ],
 "metadata": {
  "kernelspec": {
   "display_name": "env",
   "language": "python",
   "name": "python3"
  },
  "language_info": {
   "codemirror_mode": {
    "name": "ipython",
    "version": 3
   },
   "file_extension": ".py",
   "mimetype": "text/x-python",
   "name": "python",
   "nbconvert_exporter": "python",
   "pygments_lexer": "ipython3",
   "version": "3.10.6"
  },
  "orig_nbformat": 4
 },
 "nbformat": 4,
 "nbformat_minor": 2
}
